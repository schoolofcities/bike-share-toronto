{
 "cells": [
  {
   "cell_type": "code",
   "execution_count": 11,
   "metadata": {},
   "outputs": [
    {
     "data": {
      "text/plain": [
       "132124"
      ]
     },
     "execution_count": 11,
     "metadata": {},
     "output_type": "execute_result"
    }
   ],
   "source": [
    "import csv \n",
    "\n",
    "with open (\"Bikeshare Data/bikeshare-ridership-2017/Bikeshare Ridership (2017 Q1).csv\") as csvfile:\n",
    "    bikeReader = csv.reader(csvfile, delimiter = \",\", quotechar='|')\n",
    "\n",
    "    data = []\n",
    "    for row in bikeReader:\n",
    "        if row[1] == \"trip_start_time\":\n",
    "            data.append(row)\n",
    "            continue\n",
    "        date = row[1].split(\" \") [0]\n",
    "        time = row[1].split(\" \") [1]\n",
    "\n",
    "        day = date.split(\"/\")[0]\n",
    "        month = date.split(\"/\")[1]\n",
    "        year = date.split(\"/\")[2]\n",
    "        row[1] = str(int(month)) + \"/\"+ str(int(day)) + \"/\" + str(int(year)) + \" \" + time\n",
    "        if row[2] == \"trip_end_time\":\n",
    "            continue\n",
    "        date = row[2].split(\" \") [0]\n",
    "        time = row[2].split(\" \") [1]\n",
    "\n",
    "        day = date.split(\"/\")[0]\n",
    "        month = date.split(\"/\")[1]\n",
    "        year = date.split(\"/\")[2]\n",
    "        row[2] = str(int(month)) + \"/\"+ str(int(day)) + \"/\" + str(int(year)) + \" \" + time\n",
    "        data.append(row)\n",
    "len(data)"
   ]
  },
  {
   "cell_type": "code",
   "execution_count": 12,
   "metadata": {},
   "outputs": [],
   "source": [
    "with open (\"Bikeshare Data/bikeshare-ridership-2017/Bikeshare Ridership (2017 Q1)-1 .csv\", 'w', newline='') as csvfile:\n",
    "    bikeWriter = csv.writer(csvfile, delimiter = \",\", quotechar='|', quoting=csv.QUOTE_MINIMAL)\n",
    "    for row in data:\n",
    "        bikeWriter.writerow (row)\n",
    "\n"
   ]
  },
  {
   "cell_type": "code",
   "execution_count": 14,
   "metadata": {},
   "outputs": [
    {
     "data": {
      "text/plain": [
       "333354"
      ]
     },
     "execution_count": 14,
     "metadata": {},
     "output_type": "execute_result"
    }
   ],
   "source": [
    "import csv \n",
    "\n",
    "with open (\"Bikeshare Data/bikeshare-ridership-2017/Bikeshare Ridership (2017 Q2).csv\") as csvfile:\n",
    "    bikeReader = csv.reader(csvfile, delimiter = \",\", quotechar='|')\n",
    "\n",
    "    data = []\n",
    "    for row in bikeReader:\n",
    "        if row[1] == \"trip_start_time\":\n",
    "            data.append(row)\n",
    "            continue\n",
    "        date = row[1].split(\" \") [0]\n",
    "        time = row[1].split(\" \") [1]\n",
    "\n",
    "        day = date.split(\"/\")[0]\n",
    "        month = date.split(\"/\")[1]\n",
    "        year = date.split(\"/\")[2]\n",
    "        row[1] = str(int(month)) + \"/\"+ str(int(day)) + \"/\" + str(int(year)) + \" \" + time\n",
    "        if row[2] == \"trip_end_time\":\n",
    "            continue\n",
    "        date = row[2].split(\" \") [0]\n",
    "        time = row[2].split(\" \") [1]\n",
    "\n",
    "        day = date.split(\"/\")[0]\n",
    "        month = date.split(\"/\")[1]\n",
    "        year = date.split(\"/\")[2]\n",
    "        row[2] = str(int(month)) + \"/\"+ str(int(day)) + \"/\" + str(int(year)) + \" \" + time\n",
    "        data.append(row)\n",
    "\n",
    "len(data)"
   ]
  },
  {
   "cell_type": "code",
   "execution_count": 15,
   "metadata": {},
   "outputs": [],
   "source": [
    "\n",
    "with open (\"Bikeshare Data/bikeshare-ridership-2017/Bikeshare Ridership (2017 Q2)-1 .csv\", 'w', newline='') as csvfile:\n",
    "    bikeWriter = csv.writer(csvfile, delimiter = \",\", quotechar='|', quoting=csv.QUOTE_MINIMAL)\n",
    "    for row in data:\n",
    "        bikeWriter.writerow (row)\n",
    "\n",
    "\n",
    "        "
   ]
  }
 ],
 "metadata": {
  "kernelspec": {
   "display_name": "Python 3",
   "language": "python",
   "name": "python3"
  },
  "language_info": {
   "codemirror_mode": {
    "name": "ipython",
    "version": 3
   },
   "file_extension": ".py",
   "mimetype": "text/x-python",
   "name": "python",
   "nbconvert_exporter": "python",
   "pygments_lexer": "ipython3",
   "version": "3.11.0"
  },
  "orig_nbformat": 4
 },
 "nbformat": 4,
 "nbformat_minor": 2
}
